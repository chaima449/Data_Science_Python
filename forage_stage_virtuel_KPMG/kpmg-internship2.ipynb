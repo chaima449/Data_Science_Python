{
 "cells": [
  {
   "cell_type": "code",
   "execution_count": 1,
   "id": "72f9b297",
   "metadata": {
    "_cell_guid": "b1076dfc-b9ad-4769-8c92-a6c4dae69d19",
    "_uuid": "8f2839f25d086af736a60e9eeb907d3b93b6e0e5",
    "execution": {
     "iopub.execute_input": "2023-06-04T02:53:13.893000Z",
     "iopub.status.busy": "2023-06-04T02:53:13.892424Z",
     "iopub.status.idle": "2023-06-04T02:53:15.530809Z",
     "shell.execute_reply": "2023-06-04T02:53:15.529897Z"
    },
    "papermill": {
     "duration": 1.656298,
     "end_time": "2023-06-04T02:53:15.533500",
     "exception": false,
     "start_time": "2023-06-04T02:53:13.877202",
     "status": "completed"
    },
    "tags": []
   },
   "outputs": [
    {
     "name": "stderr",
     "output_type": "stream",
     "text": [
      "/opt/conda/lib/python3.10/site-packages/scipy/__init__.py:146: UserWarning: A NumPy version >=1.16.5 and <1.23.0 is required for this version of SciPy (detected version 1.23.5\n",
      "  warnings.warn(f\"A NumPy version >={np_minversion} and <{np_maxversion}\"\n"
     ]
    },
    {
     "name": "stdout",
     "output_type": "stream",
     "text": [
      "/kaggle/input/dataset1/Transactions_cleaned1.xlsx\n",
      "/kaggle/input/dataset1/Customer_demographics_cleaned1.xlsx\n",
      "/kaggle/input/dataset1/New_Customer_cleaned1.xlsx\n",
      "/kaggle/input/dataset1/Customer_address_cleaned1.xlsx\n"
     ]
    }
   ],
   "source": [
    "# This Python 3 environment comes with many helpful analytics libraries installed\n",
    "# It is defined by the kaggle/python Docker image: https://github.com/kaggle/docker-python\n",
    "# For example, here's several helpful packages to load\n",
    "\n",
    "import numpy as np # linear algebra\n",
    "import pandas as pd # data processing, CSV file I/O (e.g. pd.read_csv)\n",
    "from datetime import datetime, date\n",
    "import seaborn as sns\n",
    "import matplotlib.pyplot as plt\n",
    "\n",
    "# Input data files are available in the read-only \"../input/\" directory\n",
    "# For example, running this (by clicking run or pressing Shift+Enter) will list all files under the input directory\n",
    "\n",
    "import os\n",
    "for dirname, _, filenames in os.walk('/kaggle/input'):\n",
    "    for filename in filenames:\n",
    "        print(os.path.join(dirname, filename))\n",
    "\n",
    "# You can write up to 20GB to the current directory (/kaggle/working/) that gets preserved as output when you create a version using \"Save & Run All\" \n",
    "# You can also write temporary files to /kaggle/temp/, but they won't be saved outside of the current session"
   ]
  },
  {
   "cell_type": "code",
   "execution_count": 2,
   "id": "db680239",
   "metadata": {
    "execution": {
     "iopub.execute_input": "2023-06-04T02:53:15.560949Z",
     "iopub.status.busy": "2023-06-04T02:53:15.560429Z",
     "iopub.status.idle": "2023-06-04T02:53:27.364025Z",
     "shell.execute_reply": "2023-06-04T02:53:27.362543Z"
    },
    "papermill": {
     "duration": 11.821289,
     "end_time": "2023-06-04T02:53:27.367517",
     "exception": false,
     "start_time": "2023-06-04T02:53:15.546228",
     "status": "completed"
    },
    "tags": []
   },
   "outputs": [],
   "source": [
    "tr_df = pd.read_excel('/kaggle/input/dataset1/Transactions_cleaned1.xlsx')\n",
    "ca_df = pd.read_excel('/kaggle/input/dataset1/Customer_address_cleaned1.xlsx')\n",
    "cd_df = pd.read_excel('/kaggle/input/dataset1/Customer_demographics_cleaned1.xlsx',)\n",
    "nc_df = pd.read_excel('/kaggle/input/dataset1/New_Customer_cleaned1.xlsx')"
   ]
  },
  {
   "cell_type": "code",
   "execution_count": 3,
   "id": "a78c70f5",
   "metadata": {
    "execution": {
     "iopub.execute_input": "2023-06-04T02:53:27.397718Z",
     "iopub.status.busy": "2023-06-04T02:53:27.396876Z",
     "iopub.status.idle": "2023-06-04T02:53:27.420383Z",
     "shell.execute_reply": "2023-06-04T02:53:27.419020Z"
    },
    "papermill": {
     "duration": 0.042668,
     "end_time": "2023-06-04T02:53:27.423243",
     "exception": false,
     "start_time": "2023-06-04T02:53:27.380575",
     "status": "completed"
    },
    "tags": []
   },
   "outputs": [
    {
     "data": {
      "text/plain": [
       "1       1\n",
       "2673    1\n",
       "2660    1\n",
       "2661    1\n",
       "2662    1\n",
       "       ..\n",
       "1340    1\n",
       "1341    1\n",
       "1342    1\n",
       "1343    1\n",
       "4000    1\n",
       "Name: customer_id, Length: 3997, dtype: int64"
      ]
     },
     "execution_count": 3,
     "metadata": {},
     "output_type": "execute_result"
    }
   ],
   "source": [
    "cd_df['customer_id'].value_counts(ascending=False)"
   ]
  },
  {
   "cell_type": "code",
   "execution_count": 4,
   "id": "4c376361",
   "metadata": {
    "execution": {
     "iopub.execute_input": "2023-06-04T02:53:27.452097Z",
     "iopub.status.busy": "2023-06-04T02:53:27.451091Z",
     "iopub.status.idle": "2023-06-04T02:53:27.490747Z",
     "shell.execute_reply": "2023-06-04T02:53:27.489396Z"
    },
    "papermill": {
     "duration": 0.057793,
     "end_time": "2023-06-04T02:53:27.493596",
     "exception": false,
     "start_time": "2023-06-04T02:53:27.435803",
     "status": "completed"
    },
    "tags": []
   },
   "outputs": [
    {
     "data": {
      "text/html": [
       "<div>\n",
       "<style scoped>\n",
       "    .dataframe tbody tr th:only-of-type {\n",
       "        vertical-align: middle;\n",
       "    }\n",
       "\n",
       "    .dataframe tbody tr th {\n",
       "        vertical-align: top;\n",
       "    }\n",
       "\n",
       "    .dataframe thead th {\n",
       "        text-align: right;\n",
       "    }\n",
       "</style>\n",
       "<table border=\"1\" class=\"dataframe\">\n",
       "  <thead>\n",
       "    <tr style=\"text-align: right;\">\n",
       "      <th></th>\n",
       "      <th>transaction_id</th>\n",
       "      <th>product_id</th>\n",
       "      <th>customer_id</th>\n",
       "      <th>transaction_date</th>\n",
       "      <th>online_order</th>\n",
       "      <th>order_status</th>\n",
       "      <th>brand</th>\n",
       "      <th>product_line</th>\n",
       "      <th>product_class</th>\n",
       "      <th>product_size</th>\n",
       "      <th>list_price</th>\n",
       "      <th>standard_cost</th>\n",
       "      <th>product_first_sold_date</th>\n",
       "    </tr>\n",
       "  </thead>\n",
       "  <tbody>\n",
       "    <tr>\n",
       "      <th>0</th>\n",
       "      <td>1</td>\n",
       "      <td>2</td>\n",
       "      <td>2950</td>\n",
       "      <td>2017-02-25</td>\n",
       "      <td>0.0</td>\n",
       "      <td>Approved</td>\n",
       "      <td>Solex</td>\n",
       "      <td>Standard</td>\n",
       "      <td>medium</td>\n",
       "      <td>medium</td>\n",
       "      <td>71.49</td>\n",
       "      <td>53.62</td>\n",
       "      <td>2012-12-04</td>\n",
       "    </tr>\n",
       "    <tr>\n",
       "      <th>1</th>\n",
       "      <td>2</td>\n",
       "      <td>3</td>\n",
       "      <td>3120</td>\n",
       "      <td>2017-05-21</td>\n",
       "      <td>1.0</td>\n",
       "      <td>Approved</td>\n",
       "      <td>Trek Bicycles</td>\n",
       "      <td>Standard</td>\n",
       "      <td>medium</td>\n",
       "      <td>large</td>\n",
       "      <td>2091.47</td>\n",
       "      <td>388.92</td>\n",
       "      <td>2014-03-05</td>\n",
       "    </tr>\n",
       "    <tr>\n",
       "      <th>2</th>\n",
       "      <td>3</td>\n",
       "      <td>37</td>\n",
       "      <td>402</td>\n",
       "      <td>2017-10-16</td>\n",
       "      <td>0.0</td>\n",
       "      <td>Approved</td>\n",
       "      <td>OHM Cycles</td>\n",
       "      <td>Standard</td>\n",
       "      <td>low</td>\n",
       "      <td>medium</td>\n",
       "      <td>1793.43</td>\n",
       "      <td>248.82</td>\n",
       "      <td>1999-07-22</td>\n",
       "    </tr>\n",
       "    <tr>\n",
       "      <th>3</th>\n",
       "      <td>4</td>\n",
       "      <td>88</td>\n",
       "      <td>3135</td>\n",
       "      <td>2017-08-31</td>\n",
       "      <td>0.0</td>\n",
       "      <td>Approved</td>\n",
       "      <td>Norco Bicycles</td>\n",
       "      <td>Standard</td>\n",
       "      <td>medium</td>\n",
       "      <td>medium</td>\n",
       "      <td>1198.46</td>\n",
       "      <td>381.10</td>\n",
       "      <td>1998-12-18</td>\n",
       "    </tr>\n",
       "    <tr>\n",
       "      <th>4</th>\n",
       "      <td>5</td>\n",
       "      <td>78</td>\n",
       "      <td>787</td>\n",
       "      <td>2017-10-01</td>\n",
       "      <td>1.0</td>\n",
       "      <td>Approved</td>\n",
       "      <td>Giant Bicycles</td>\n",
       "      <td>Standard</td>\n",
       "      <td>medium</td>\n",
       "      <td>large</td>\n",
       "      <td>1765.30</td>\n",
       "      <td>709.48</td>\n",
       "      <td>2015-08-12</td>\n",
       "    </tr>\n",
       "  </tbody>\n",
       "</table>\n",
       "</div>"
      ],
      "text/plain": [
       "   transaction_id  product_id  customer_id transaction_date  online_order  \\\n",
       "0               1           2         2950       2017-02-25           0.0   \n",
       "1               2           3         3120       2017-05-21           1.0   \n",
       "2               3          37          402       2017-10-16           0.0   \n",
       "3               4          88         3135       2017-08-31           0.0   \n",
       "4               5          78          787       2017-10-01           1.0   \n",
       "\n",
       "  order_status           brand product_line product_class product_size  \\\n",
       "0     Approved           Solex     Standard        medium       medium   \n",
       "1     Approved   Trek Bicycles     Standard        medium        large   \n",
       "2     Approved      OHM Cycles     Standard           low       medium   \n",
       "3     Approved  Norco Bicycles     Standard        medium       medium   \n",
       "4     Approved  Giant Bicycles     Standard        medium        large   \n",
       "\n",
       "   list_price  standard_cost product_first_sold_date  \n",
       "0       71.49          53.62              2012-12-04  \n",
       "1     2091.47         388.92              2014-03-05  \n",
       "2     1793.43         248.82              1999-07-22  \n",
       "3     1198.46         381.10              1998-12-18  \n",
       "4     1765.30         709.48              2015-08-12  "
      ]
     },
     "execution_count": 4,
     "metadata": {},
     "output_type": "execute_result"
    }
   ],
   "source": [
    "tr_df.head()"
   ]
  },
  {
   "cell_type": "code",
   "execution_count": 5,
   "id": "68da07ee",
   "metadata": {
    "execution": {
     "iopub.execute_input": "2023-06-04T02:53:27.522049Z",
     "iopub.status.busy": "2023-06-04T02:53:27.521470Z",
     "iopub.status.idle": "2023-06-04T02:53:27.534599Z",
     "shell.execute_reply": "2023-06-04T02:53:27.533355Z"
    },
    "papermill": {
     "duration": 0.030307,
     "end_time": "2023-06-04T02:53:27.537205",
     "exception": false,
     "start_time": "2023-06-04T02:53:27.506898",
     "status": "completed"
    },
    "tags": []
   },
   "outputs": [
    {
     "data": {
      "text/html": [
       "<div>\n",
       "<style scoped>\n",
       "    .dataframe tbody tr th:only-of-type {\n",
       "        vertical-align: middle;\n",
       "    }\n",
       "\n",
       "    .dataframe tbody tr th {\n",
       "        vertical-align: top;\n",
       "    }\n",
       "\n",
       "    .dataframe thead th {\n",
       "        text-align: right;\n",
       "    }\n",
       "</style>\n",
       "<table border=\"1\" class=\"dataframe\">\n",
       "  <thead>\n",
       "    <tr style=\"text-align: right;\">\n",
       "      <th></th>\n",
       "      <th>customer_id</th>\n",
       "      <th>state</th>\n",
       "      <th>property_valuation</th>\n",
       "    </tr>\n",
       "  </thead>\n",
       "  <tbody>\n",
       "    <tr>\n",
       "      <th>0</th>\n",
       "      <td>1</td>\n",
       "      <td>NSW</td>\n",
       "      <td>10</td>\n",
       "    </tr>\n",
       "    <tr>\n",
       "      <th>1</th>\n",
       "      <td>2</td>\n",
       "      <td>NSW</td>\n",
       "      <td>10</td>\n",
       "    </tr>\n",
       "    <tr>\n",
       "      <th>2</th>\n",
       "      <td>4</td>\n",
       "      <td>QLD</td>\n",
       "      <td>9</td>\n",
       "    </tr>\n",
       "    <tr>\n",
       "      <th>3</th>\n",
       "      <td>5</td>\n",
       "      <td>NSW</td>\n",
       "      <td>4</td>\n",
       "    </tr>\n",
       "    <tr>\n",
       "      <th>4</th>\n",
       "      <td>6</td>\n",
       "      <td>VIC</td>\n",
       "      <td>9</td>\n",
       "    </tr>\n",
       "  </tbody>\n",
       "</table>\n",
       "</div>"
      ],
      "text/plain": [
       "   customer_id state  property_valuation\n",
       "0            1   NSW                  10\n",
       "1            2   NSW                  10\n",
       "2            4   QLD                   9\n",
       "3            5   NSW                   4\n",
       "4            6   VIC                   9"
      ]
     },
     "execution_count": 5,
     "metadata": {},
     "output_type": "execute_result"
    }
   ],
   "source": [
    "ca_df.head()"
   ]
  },
  {
   "cell_type": "code",
   "execution_count": 6,
   "id": "f2f122a8",
   "metadata": {
    "execution": {
     "iopub.execute_input": "2023-06-04T02:53:27.566133Z",
     "iopub.status.busy": "2023-06-04T02:53:27.565596Z",
     "iopub.status.idle": "2023-06-04T02:53:27.578609Z",
     "shell.execute_reply": "2023-06-04T02:53:27.577106Z"
    },
    "papermill": {
     "duration": 0.031108,
     "end_time": "2023-06-04T02:53:27.581552",
     "exception": false,
     "start_time": "2023-06-04T02:53:27.550444",
     "status": "completed"
    },
    "tags": []
   },
   "outputs": [
    {
     "data": {
      "text/plain": [
       "customer_id           0\n",
       "state                 0\n",
       "property_valuation    0\n",
       "dtype: int64"
      ]
     },
     "execution_count": 6,
     "metadata": {},
     "output_type": "execute_result"
    }
   ],
   "source": [
    "ca_df.isna().sum()"
   ]
  },
  {
   "cell_type": "code",
   "execution_count": 7,
   "id": "9e2f72b0",
   "metadata": {
    "execution": {
     "iopub.execute_input": "2023-06-04T02:53:27.611745Z",
     "iopub.status.busy": "2023-06-04T02:53:27.611262Z",
     "iopub.status.idle": "2023-06-04T02:53:27.629160Z",
     "shell.execute_reply": "2023-06-04T02:53:27.627877Z"
    },
    "papermill": {
     "duration": 0.036028,
     "end_time": "2023-06-04T02:53:27.631699",
     "exception": false,
     "start_time": "2023-06-04T02:53:27.595671",
     "status": "completed"
    },
    "tags": []
   },
   "outputs": [
    {
     "data": {
      "text/plain": [
       "0"
      ]
     },
     "execution_count": 7,
     "metadata": {},
     "output_type": "execute_result"
    }
   ],
   "source": [
    "ca_df.duplicated().sum()"
   ]
  },
  {
   "cell_type": "code",
   "execution_count": 8,
   "id": "a69a55bd",
   "metadata": {
    "execution": {
     "iopub.execute_input": "2023-06-04T02:53:27.661249Z",
     "iopub.status.busy": "2023-06-04T02:53:27.660727Z",
     "iopub.status.idle": "2023-06-04T02:53:27.685095Z",
     "shell.execute_reply": "2023-06-04T02:53:27.683453Z"
    },
    "papermill": {
     "duration": 0.042711,
     "end_time": "2023-06-04T02:53:27.688003",
     "exception": false,
     "start_time": "2023-06-04T02:53:27.645292",
     "status": "completed"
    },
    "tags": []
   },
   "outputs": [
    {
     "name": "stdout",
     "output_type": "stream",
     "text": [
      "<class 'pandas.core.frame.DataFrame'>\n",
      "RangeIndex: 3999 entries, 0 to 3998\n",
      "Data columns (total 3 columns):\n",
      " #   Column              Non-Null Count  Dtype \n",
      "---  ------              --------------  ----- \n",
      " 0   customer_id         3999 non-null   int64 \n",
      " 1   state               3999 non-null   object\n",
      " 2   property_valuation  3999 non-null   int64 \n",
      "dtypes: int64(2), object(1)\n",
      "memory usage: 93.9+ KB\n"
     ]
    }
   ],
   "source": [
    "ca_df.info()"
   ]
  },
  {
   "cell_type": "code",
   "execution_count": 9,
   "id": "414ebdd8",
   "metadata": {
    "execution": {
     "iopub.execute_input": "2023-06-04T02:53:27.718049Z",
     "iopub.status.busy": "2023-06-04T02:53:27.717448Z",
     "iopub.status.idle": "2023-06-04T02:53:28.088451Z",
     "shell.execute_reply": "2023-06-04T02:53:28.087118Z"
    },
    "papermill": {
     "duration": 0.389779,
     "end_time": "2023-06-04T02:53:28.091523",
     "exception": false,
     "start_time": "2023-06-04T02:53:27.701744",
     "status": "completed"
    },
    "tags": []
   },
   "outputs": [
    {
     "data": {
      "text/plain": [
       "<AxesSubplot: title={'center': 'The number of clients from the three states'}>"
      ]
     },
     "execution_count": 9,
     "metadata": {},
     "output_type": "execute_result"
    },
    {
     "data": {
      "image/png": "[encoded data removed]",
      "text/plain": [
       "<Figure size 640x480 with 1 Axes>"
      ]
     },
     "metadata": {},
     "output_type": "display_data"
    }
   ],
   "source": [
    "ca_df['state'].value_counts().plot(kind='bar', title='The number of clients from the three states')"
   ]
  },
  {
   "cell_type": "code",
   "execution_count": 10,
   "id": "af9f2683",
   "metadata": {
    "execution": {
     "iopub.execute_input": "2023-06-04T02:53:28.124103Z",
     "iopub.status.busy": "2023-06-04T02:53:28.122672Z",
     "iopub.status.idle": "2023-06-04T02:53:28.427580Z",
     "shell.execute_reply": "2023-06-04T02:53:28.425957Z"
    },
    "papermill": {
     "duration": 0.324408,
     "end_time": "2023-06-04T02:53:28.430948",
     "exception": false,
     "start_time": "2023-06-04T02:53:28.106540",
     "status": "completed"
    },
    "tags": []
   },
   "outputs": [
    {
     "data": {
      "text/plain": [
       "<AxesSubplot: title={'center': 'The property valuation of the clients'}>"
      ]
     },
     "execution_count": 10,
     "metadata": {},
     "output_type": "execute_result"
    },
    {
     "data": {
      "image/png": "[encoded data removed]",
      "text/plain": [
       "<Figure size 640x480 with 1 Axes>"
      ]
     },
     "metadata": {},
     "output_type": "display_data"
    }
   ],
   "source": [
    "x_axis_order = [1, 2, 3, 4, 5, 6, 7, 8, 9, 10, 11, 12]\n",
    "ca_df['property_valuation'].value_counts().loc[x_axis_order].plot(kind='bar', title='The property valuation of the clients')"
   ]
  },
  {
   "cell_type": "code",
   "execution_count": 11,
   "id": "99b65041",
   "metadata": {
    "execution": {
     "iopub.execute_input": "2023-06-04T02:53:28.464308Z",
     "iopub.status.busy": "2023-06-04T02:53:28.462792Z",
     "iopub.status.idle": "2023-06-04T02:53:28.677487Z",
     "shell.execute_reply": "2023-06-04T02:53:28.676081Z"
    },
    "papermill": {
     "duration": 0.234949,
     "end_time": "2023-06-04T02:53:28.680641",
     "exception": false,
     "start_time": "2023-06-04T02:53:28.445692",
     "status": "completed"
    },
    "tags": []
   },
   "outputs": [
    {
     "data": {
      "text/plain": [
       "<AxesSubplot: xlabel='state', ylabel='property_valuation'>"
      ]
     },
     "execution_count": 11,
     "metadata": {},
     "output_type": "execute_result"
    },
    {
     "data": {
      "image/png": "[encoded data removed]",
      "text/plain": [
       "<Figure size 640x480 with 1 Axes>"
      ]
     },
     "metadata": {},
     "output_type": "display_data"
    }
   ],
   "source": [
    "ca_df.plot(kind='scatter', x='state', y='property_valuation')"
   ]
  },
  {
   "cell_type": "code",
   "execution_count": 12,
   "id": "33910f15",
   "metadata": {
    "execution": {
     "iopub.execute_input": "2023-06-04T02:53:28.714082Z",
     "iopub.status.busy": "2023-06-04T02:53:28.713568Z",
     "iopub.status.idle": "2023-06-04T02:53:28.735147Z",
     "shell.execute_reply": "2023-06-04T02:53:28.733248Z"
    },
    "papermill": {
     "duration": 0.041314,
     "end_time": "2023-06-04T02:53:28.737781",
     "exception": false,
     "start_time": "2023-06-04T02:53:28.696467",
     "status": "completed"
    },
    "tags": []
   },
   "outputs": [
    {
     "name": "stderr",
     "output_type": "stream",
     "text": [
      "/tmp/ipykernel_20/4036797010.py:1: FutureWarning: The default value of numeric_only in DataFrame.corr is deprecated. In a future version, it will default to False. Select only valid columns or specify the value of numeric_only to silence this warning.\n",
      "  ca_df[['state', 'property_valuation']].dropna().corr()\n"
     ]
    },
    {
     "data": {
      "text/html": [
       "<div>\n",
       "<style scoped>\n",
       "    .dataframe tbody tr th:only-of-type {\n",
       "        vertical-align: middle;\n",
       "    }\n",
       "\n",
       "    .dataframe tbody tr th {\n",
       "        vertical-align: top;\n",
       "    }\n",
       "\n",
       "    .dataframe thead th {\n",
       "        text-align: right;\n",
       "    }\n",
       "</style>\n",
       "<table border=\"1\" class=\"dataframe\">\n",
       "  <thead>\n",
       "    <tr style=\"text-align: right;\">\n",
       "      <th></th>\n",
       "      <th>property_valuation</th>\n",
       "    </tr>\n",
       "  </thead>\n",
       "  <tbody>\n",
       "    <tr>\n",
       "      <th>property_valuation</th>\n",
       "      <td>1.0</td>\n",
       "    </tr>\n",
       "  </tbody>\n",
       "</table>\n",
       "</div>"
      ],
      "text/plain": [
       "                    property_valuation\n",
       "property_valuation                 1.0"
      ]
     },
     "execution_count": 12,
     "metadata": {},
     "output_type": "execute_result"
    }
   ],
   "source": [
    "ca_df[['state', 'property_valuation']].dropna().corr()"
   ]
  },
  {
   "cell_type": "markdown",
   "id": "0b29f5ca",
   "metadata": {
    "papermill": {
     "duration": 0.01575,
     "end_time": "2023-06-04T02:53:28.769694",
     "exception": false,
     "start_time": "2023-06-04T02:53:28.753944",
     "status": "completed"
    },
    "tags": []
   },
   "source": [
    "the results here are not complete so we should convert the 'state' to a numeric value:\n",
    "'NSW' : 1\n",
    "'QLD' : 2\n",
    "'VIC' : 3"
   ]
  },
  {
   "cell_type": "code",
   "execution_count": 13,
   "id": "11ef68e1",
   "metadata": {
    "execution": {
     "iopub.execute_input": "2023-06-04T02:53:28.803011Z",
     "iopub.status.busy": "2023-06-04T02:53:28.802459Z",
     "iopub.status.idle": "2023-06-04T02:53:28.812129Z",
     "shell.execute_reply": "2023-06-04T02:53:28.810715Z"
    },
    "papermill": {
     "duration": 0.029584,
     "end_time": "2023-06-04T02:53:28.814995",
     "exception": false,
     "start_time": "2023-06-04T02:53:28.785411",
     "status": "completed"
    },
    "tags": []
   },
   "outputs": [],
   "source": [
    "ca_df['state'] = ca_df['state'].map({'NSW' : 1, 'QLD' : 2, 'VIC' : 3})"
   ]
  },
  {
   "cell_type": "code",
   "execution_count": 14,
   "id": "3fc30aad",
   "metadata": {
    "execution": {
     "iopub.execute_input": "2023-06-04T02:53:28.848890Z",
     "iopub.status.busy": "2023-06-04T02:53:28.848387Z",
     "iopub.status.idle": "2023-06-04T02:53:28.861172Z",
     "shell.execute_reply": "2023-06-04T02:53:28.859890Z"
    },
    "papermill": {
     "duration": 0.033291,
     "end_time": "2023-06-04T02:53:28.863881",
     "exception": false,
     "start_time": "2023-06-04T02:53:28.830590",
     "status": "completed"
    },
    "tags": []
   },
   "outputs": [
    {
     "data": {
      "text/html": [
       "<div>\n",
       "<style scoped>\n",
       "    .dataframe tbody tr th:only-of-type {\n",
       "        vertical-align: middle;\n",
       "    }\n",
       "\n",
       "    .dataframe tbody tr th {\n",
       "        vertical-align: top;\n",
       "    }\n",
       "\n",
       "    .dataframe thead th {\n",
       "        text-align: right;\n",
       "    }\n",
       "</style>\n",
       "<table border=\"1\" class=\"dataframe\">\n",
       "  <thead>\n",
       "    <tr style=\"text-align: right;\">\n",
       "      <th></th>\n",
       "      <th>customer_id</th>\n",
       "      <th>state</th>\n",
       "      <th>property_valuation</th>\n",
       "    </tr>\n",
       "  </thead>\n",
       "  <tbody>\n",
       "    <tr>\n",
       "      <th>0</th>\n",
       "      <td>1</td>\n",
       "      <td>1</td>\n",
       "      <td>10</td>\n",
       "    </tr>\n",
       "    <tr>\n",
       "      <th>1</th>\n",
       "      <td>2</td>\n",
       "      <td>1</td>\n",
       "      <td>10</td>\n",
       "    </tr>\n",
       "    <tr>\n",
       "      <th>2</th>\n",
       "      <td>4</td>\n",
       "      <td>2</td>\n",
       "      <td>9</td>\n",
       "    </tr>\n",
       "    <tr>\n",
       "      <th>3</th>\n",
       "      <td>5</td>\n",
       "      <td>1</td>\n",
       "      <td>4</td>\n",
       "    </tr>\n",
       "    <tr>\n",
       "      <th>4</th>\n",
       "      <td>6</td>\n",
       "      <td>3</td>\n",
       "      <td>9</td>\n",
       "    </tr>\n",
       "  </tbody>\n",
       "</table>\n",
       "</div>"
      ],
      "text/plain": [
       "   customer_id  state  property_valuation\n",
       "0            1      1                  10\n",
       "1            2      1                  10\n",
       "2            4      2                   9\n",
       "3            5      1                   4\n",
       "4            6      3                   9"
      ]
     },
     "execution_count": 14,
     "metadata": {},
     "output_type": "execute_result"
    }
   ],
   "source": [
    "ca_df.head()"
   ]
  },
  {
   "cell_type": "code",
   "execution_count": 15,
   "id": "15446e63",
   "metadata": {
    "execution": {
     "iopub.execute_input": "2023-06-04T02:53:28.897802Z",
     "iopub.status.busy": "2023-06-04T02:53:28.897268Z",
     "iopub.status.idle": "2023-06-04T02:53:28.913373Z",
     "shell.execute_reply": "2023-06-04T02:53:28.912417Z"
    },
    "papermill": {
     "duration": 0.036052,
     "end_time": "2023-06-04T02:53:28.915626",
     "exception": false,
     "start_time": "2023-06-04T02:53:28.879574",
     "status": "completed"
    },
    "tags": []
   },
   "outputs": [
    {
     "data": {
      "text/html": [
       "<div>\n",
       "<style scoped>\n",
       "    .dataframe tbody tr th:only-of-type {\n",
       "        vertical-align: middle;\n",
       "    }\n",
       "\n",
       "    .dataframe tbody tr th {\n",
       "        vertical-align: top;\n",
       "    }\n",
       "\n",
       "    .dataframe thead th {\n",
       "        text-align: right;\n",
       "    }\n",
       "</style>\n",
       "<table border=\"1\" class=\"dataframe\">\n",
       "  <thead>\n",
       "    <tr style=\"text-align: right;\">\n",
       "      <th></th>\n",
       "      <th>state</th>\n",
       "      <th>property_valuation</th>\n",
       "    </tr>\n",
       "  </thead>\n",
       "  <tbody>\n",
       "    <tr>\n",
       "      <th>state</th>\n",
       "      <td>1.000000</td>\n",
       "      <td>-0.222889</td>\n",
       "    </tr>\n",
       "    <tr>\n",
       "      <th>property_valuation</th>\n",
       "      <td>-0.222889</td>\n",
       "      <td>1.000000</td>\n",
       "    </tr>\n",
       "  </tbody>\n",
       "</table>\n",
       "</div>"
      ],
      "text/plain": [
       "                       state  property_valuation\n",
       "state               1.000000           -0.222889\n",
       "property_valuation -0.222889            1.000000"
      ]
     },
     "execution_count": 15,
     "metadata": {},
     "output_type": "execute_result"
    }
   ],
   "source": [
    "ca_df[['state', 'property_valuation']].dropna().corr()"
   ]
  },
  {
   "cell_type": "code",
   "execution_count": 16,
   "id": "e269785f",
   "metadata": {
    "execution": {
     "iopub.execute_input": "2023-06-04T02:53:28.950796Z",
     "iopub.status.busy": "2023-06-04T02:53:28.950293Z",
     "iopub.status.idle": "2023-06-04T02:53:28.969924Z",
     "shell.execute_reply": "2023-06-04T02:53:28.968591Z"
    },
    "papermill": {
     "duration": 0.040945,
     "end_time": "2023-06-04T02:53:28.972667",
     "exception": false,
     "start_time": "2023-06-04T02:53:28.931722",
     "status": "completed"
    },
    "tags": []
   },
   "outputs": [
    {
     "data": {
      "text/html": [
       "<div>\n",
       "<style scoped>\n",
       "    .dataframe tbody tr th:only-of-type {\n",
       "        vertical-align: middle;\n",
       "    }\n",
       "\n",
       "    .dataframe tbody tr th {\n",
       "        vertical-align: top;\n",
       "    }\n",
       "\n",
       "    .dataframe thead th {\n",
       "        text-align: right;\n",
       "    }\n",
       "</style>\n",
       "<table border=\"1\" class=\"dataframe\">\n",
       "  <thead>\n",
       "    <tr style=\"text-align: right;\">\n",
       "      <th></th>\n",
       "      <th>customer_id</th>\n",
       "      <th>gender</th>\n",
       "      <th>past_3_years_bike_related_purchases</th>\n",
       "      <th>job_title</th>\n",
       "      <th>job_industry_category</th>\n",
       "      <th>wealth_segment</th>\n",
       "      <th>owns_car</th>\n",
       "      <th>tenure</th>\n",
       "      <th>age</th>\n",
       "      <th>AgeGroup</th>\n",
       "    </tr>\n",
       "  </thead>\n",
       "  <tbody>\n",
       "    <tr>\n",
       "      <th>0</th>\n",
       "      <td>1</td>\n",
       "      <td>Female</td>\n",
       "      <td>93</td>\n",
       "      <td>Executive Secretary</td>\n",
       "      <td>Health</td>\n",
       "      <td>Mass Customer</td>\n",
       "      <td>Yes</td>\n",
       "      <td>11.0</td>\n",
       "      <td>69.0</td>\n",
       "      <td>older</td>\n",
       "    </tr>\n",
       "    <tr>\n",
       "      <th>1</th>\n",
       "      <td>2</td>\n",
       "      <td>Male</td>\n",
       "      <td>81</td>\n",
       "      <td>Administrative Officer</td>\n",
       "      <td>Financial Services</td>\n",
       "      <td>Mass Customer</td>\n",
       "      <td>Yes</td>\n",
       "      <td>16.0</td>\n",
       "      <td>42.0</td>\n",
       "      <td>forties</td>\n",
       "    </tr>\n",
       "    <tr>\n",
       "      <th>2</th>\n",
       "      <td>3</td>\n",
       "      <td>Male</td>\n",
       "      <td>61</td>\n",
       "      <td>Recruiting Manager</td>\n",
       "      <td>Property</td>\n",
       "      <td>Mass Customer</td>\n",
       "      <td>Yes</td>\n",
       "      <td>15.0</td>\n",
       "      <td>69.0</td>\n",
       "      <td>older</td>\n",
       "    </tr>\n",
       "    <tr>\n",
       "      <th>3</th>\n",
       "      <td>4</td>\n",
       "      <td>Male</td>\n",
       "      <td>33</td>\n",
       "      <td>NaN</td>\n",
       "      <td>IT</td>\n",
       "      <td>Mass Customer</td>\n",
       "      <td>No</td>\n",
       "      <td>7.0</td>\n",
       "      <td>61.0</td>\n",
       "      <td>older</td>\n",
       "    </tr>\n",
       "    <tr>\n",
       "      <th>4</th>\n",
       "      <td>5</td>\n",
       "      <td>Female</td>\n",
       "      <td>56</td>\n",
       "      <td>Senior Editor</td>\n",
       "      <td>NaN</td>\n",
       "      <td>Affluent Customer</td>\n",
       "      <td>Yes</td>\n",
       "      <td>8.0</td>\n",
       "      <td>46.0</td>\n",
       "      <td>forties</td>\n",
       "    </tr>\n",
       "  </tbody>\n",
       "</table>\n",
       "</div>"
      ],
      "text/plain": [
       "   customer_id  gender  past_3_years_bike_related_purchases  \\\n",
       "0            1  Female                                   93   \n",
       "1            2    Male                                   81   \n",
       "2            3    Male                                   61   \n",
       "3            4    Male                                   33   \n",
       "4            5  Female                                   56   \n",
       "\n",
       "                job_title job_industry_category     wealth_segment owns_car  \\\n",
       "0     Executive Secretary                Health      Mass Customer      Yes   \n",
       "1  Administrative Officer    Financial Services      Mass Customer      Yes   \n",
       "2      Recruiting Manager              Property      Mass Customer      Yes   \n",
       "3                     NaN                    IT      Mass Customer       No   \n",
       "4           Senior Editor                   NaN  Affluent Customer      Yes   \n",
       "\n",
       "   tenure   age AgeGroup  \n",
       "0    11.0  69.0    older  \n",
       "1    16.0  42.0  forties  \n",
       "2    15.0  69.0    older  \n",
       "3     7.0  61.0    older  \n",
       "4     8.0  46.0  forties  "
      ]
     },
     "execution_count": 16,
     "metadata": {},
     "output_type": "execute_result"
    }
   ],
   "source": [
    "cd_df.head()"
   ]
  },
  {
   "cell_type": "code",
   "execution_count": 17,
   "id": "e59bc13e",
   "metadata": {
    "execution": {
     "iopub.execute_input": "2023-06-04T02:53:29.009026Z",
     "iopub.status.busy": "2023-06-04T02:53:29.007734Z",
     "iopub.status.idle": "2023-06-04T02:53:29.019166Z",
     "shell.execute_reply": "2023-06-04T02:53:29.017989Z"
    },
    "papermill": {
     "duration": 0.032315,
     "end_time": "2023-06-04T02:53:29.021632",
     "exception": false,
     "start_time": "2023-06-04T02:53:28.989317",
     "status": "completed"
    },
    "tags": []
   },
   "outputs": [
    {
     "data": {
      "text/plain": [
       "customer_id           0\n",
       "state                 0\n",
       "property_valuation    0\n",
       "dtype: int64"
      ]
     },
     "execution_count": 17,
     "metadata": {},
     "output_type": "execute_result"
    }
   ],
   "source": [
    "ca_df.isna().sum()"
   ]
  },
  {
   "cell_type": "code",
   "execution_count": 18,
   "id": "a84fe94a",
   "metadata": {
    "execution": {
     "iopub.execute_input": "2023-06-04T02:53:29.056635Z",
     "iopub.status.busy": "2023-06-04T02:53:29.056114Z",
     "iopub.status.idle": "2023-06-04T02:53:29.066508Z",
     "shell.execute_reply": "2023-06-04T02:53:29.065324Z"
    },
    "papermill": {
     "duration": 0.031175,
     "end_time": "2023-06-04T02:53:29.069115",
     "exception": false,
     "start_time": "2023-06-04T02:53:29.037940",
     "status": "completed"
    },
    "tags": []
   },
   "outputs": [
    {
     "data": {
      "text/plain": [
       "0"
      ]
     },
     "execution_count": 18,
     "metadata": {},
     "output_type": "execute_result"
    }
   ],
   "source": [
    "ca_df.duplicated().sum()"
   ]
  },
  {
   "cell_type": "code",
   "execution_count": 19,
   "id": "a2c9f8b8",
   "metadata": {
    "execution": {
     "iopub.execute_input": "2023-06-04T02:53:29.104564Z",
     "iopub.status.busy": "2023-06-04T02:53:29.103662Z",
     "iopub.status.idle": "2023-06-04T02:53:29.128255Z",
     "shell.execute_reply": "2023-06-04T02:53:29.126948Z"
    },
    "papermill": {
     "duration": 0.045604,
     "end_time": "2023-06-04T02:53:29.131117",
     "exception": false,
     "start_time": "2023-06-04T02:53:29.085513",
     "status": "completed"
    },
    "tags": []
   },
   "outputs": [
    {
     "name": "stdout",
     "output_type": "stream",
     "text": [
      "<class 'pandas.core.frame.DataFrame'>\n",
      "RangeIndex: 3997 entries, 0 to 3996\n",
      "Data columns (total 10 columns):\n",
      " #   Column                               Non-Null Count  Dtype  \n",
      "---  ------                               --------------  -----  \n",
      " 0   customer_id                          3997 non-null   int64  \n",
      " 1   gender                               3997 non-null   object \n",
      " 2   past_3_years_bike_related_purchases  3997 non-null   int64  \n",
      " 3   job_title                            3491 non-null   object \n",
      " 4   job_industry_category                3341 non-null   object \n",
      " 5   wealth_segment                       3997 non-null   object \n",
      " 6   owns_car                             3997 non-null   object \n",
      " 7   tenure                               3910 non-null   float64\n",
      " 8   age                                  3910 non-null   float64\n",
      " 9   AgeGroup                             3910 non-null   object \n",
      "dtypes: float64(2), int64(2), object(6)\n",
      "memory usage: 312.4+ KB\n"
     ]
    }
   ],
   "source": [
    "cd_df.info()"
   ]
  },
  {
   "cell_type": "code",
   "execution_count": 20,
   "id": "282eb669",
   "metadata": {
    "execution": {
     "iopub.execute_input": "2023-06-04T02:53:29.166673Z",
     "iopub.status.busy": "2023-06-04T02:53:29.166128Z",
     "iopub.status.idle": "2023-06-04T02:53:29.178113Z",
     "shell.execute_reply": "2023-06-04T02:53:29.176867Z"
    },
    "papermill": {
     "duration": 0.032848,
     "end_time": "2023-06-04T02:53:29.180605",
     "exception": false,
     "start_time": "2023-06-04T02:53:29.147757",
     "status": "completed"
    },
    "tags": []
   },
   "outputs": [
    {
     "data": {
      "text/plain": [
       "0       False\n",
       "1       False\n",
       "2       False\n",
       "3        True\n",
       "4       False\n",
       "        ...  \n",
       "3992    False\n",
       "3993    False\n",
       "3994    False\n",
       "3995     True\n",
       "3996    False\n",
       "Name: job_title, Length: 3997, dtype: bool"
      ]
     },
     "execution_count": 20,
     "metadata": {},
     "output_type": "execute_result"
    }
   ],
   "source": [
    "cd_df['job_title'].isna()"
   ]
  },
  {
   "cell_type": "code",
   "execution_count": 21,
   "id": "0ce5f1fc",
   "metadata": {
    "execution": {
     "iopub.execute_input": "2023-06-04T02:53:29.217556Z",
     "iopub.status.busy": "2023-06-04T02:53:29.217054Z",
     "iopub.status.idle": "2023-06-04T02:53:29.232295Z",
     "shell.execute_reply": "2023-06-04T02:53:29.230761Z"
    },
    "papermill": {
     "duration": 0.037566,
     "end_time": "2023-06-04T02:53:29.235713",
     "exception": false,
     "start_time": "2023-06-04T02:53:29.198147",
     "status": "completed"
    },
    "tags": []
   },
   "outputs": [
    {
     "name": "stdout",
     "output_type": "stream",
     "text": [
      "Distinct values of customer_id: [   1    2    3 ... 3998 3999 4000]\n",
      "---------------------------------------------------------------------------\n",
      "Distinct values of gender: ['Female' 'Male' 'Unkown']\n",
      "---------------------------------------------------------------------------\n",
      "Distinct values of past_3_years_bike_related_purchases: [93 81 61 33 56 35  6 31 97 49 99 58 38 85 91 57 79 76 72 74 43 55 12 37\n",
      "  5 62 18  3 17 44 40 46 64 24 63 98 51 68 22  2 48 87 26 60 47 73 21 67\n",
      " 16 78 30 94 28 20 11  1 75 41 69 19 80 83 25 54  4 23 65 88 10 77  9 82\n",
      " 27 53 32 34 71 36 90 95  8 39  7 42 13 45 50 14 89 84 96 59 70 66  0 15\n",
      " 86 92 29 52]\n",
      "---------------------------------------------------------------------------\n",
      "Distinct values of job_title: ['Executive Secretary' 'Administrative Officer' 'Recruiting Manager' nan\n",
      " 'Senior Editor' 'Media Manager I' 'Business Systems Development Analyst'\n",
      " 'Senior Quality Engineer' 'Nuclear Power Engineer' 'Developer I'\n",
      " 'Account Executive' 'Junior Executive' 'Media Manager IV'\n",
      " 'Sales Associate' 'Professor' 'Geological Engineer' 'Project Manager'\n",
      " 'Safety Technician I' 'Research Assistant I' 'Accounting Assistant III'\n",
      " 'Editor' 'Research Nurse' 'Safety Technician III' 'Staff Accountant III'\n",
      " 'Legal Assistant' 'Product Engineer' 'Information Systems Manager'\n",
      " 'VP Quality Control' 'Social Worker' 'Senior Cost Accountant'\n",
      " 'Assistant Media Planner' 'Payment Adjustment Coordinator' 'Food Chemist'\n",
      " 'Accountant III' 'Director of Sales' 'Senior Financial Analyst'\n",
      " 'Registered Nurse' 'Biostatistician II' 'Computer Systems Analyst II'\n",
      " 'Software Test Engineer II' 'Paralegal' 'VP Sales'\n",
      " 'Chief Design Engineer' 'Office Assistant III'\n",
      " 'Physical Therapy Assistant' 'Help Desk Operator' 'Web Developer II'\n",
      " 'Research Associate' 'Teacher' 'VP Product Management' 'Statistician II'\n",
      " 'Automation Specialist IV' 'Data Coordiator' 'Software Test Engineer III'\n",
      " 'Internal Auditor' 'Analyst Programmer' 'Occupational Therapist'\n",
      " 'Speech Pathologist' 'Quality Control Specialist' 'Civil Engineer'\n",
      " 'Software Engineer III' 'Community Outreach Specialist'\n",
      " 'Safety Technician IV' 'VP Accounting' 'General Manager'\n",
      " 'Nurse Practicioner' 'Automation Specialist II' 'Marketing Assistant'\n",
      " 'Marketing Manager' 'Staff Scientist' 'Assistant Professor'\n",
      " 'Budget/Accounting Analyst IV' 'Associate Professor' 'Graphic Designer'\n",
      " 'Administrative Assistant II' 'Compensation Analyst'\n",
      " 'Systems Administrator III' 'Financial Advisor' 'Chemical Engineer'\n",
      " 'Web Designer I' 'Senior Developer' 'Office Assistant II' 'Recruiter'\n",
      " 'Operator' 'Programmer Analyst III' 'Quality Engineer'\n",
      " 'Environmental Tech' 'Analog Circuit Design manager' 'Cost Accountant'\n",
      " 'Librarian' 'Structural Analysis Engineer' 'Pharmacist'\n",
      " 'Assistant Manager' 'Accountant I' 'Web Designer III' 'Geologist III'\n",
      " 'Software Test Engineer I' 'Structural Engineer' 'Safety Technician II'\n",
      " 'Web Developer III' 'Programmer Analyst II' 'Design Engineer'\n",
      " 'Statistician I' 'VP Marketing' 'Desktop Support Technician' 'Actuary'\n",
      " 'Database Administrator III' 'Electrical Engineer' 'Tax Accountant'\n",
      " 'Clinical Specialist' 'Database Administrator IV'\n",
      " 'Systems Administrator II' 'Account Coordinator' 'Programmer III'\n",
      " 'Administrative Assistant III' 'Nurse' 'Technical Writer'\n",
      " 'Staff Accountant II' 'Dental Hygienist' 'Sales Representative'\n",
      " 'Budget/Accounting Analyst III' 'Computer Systems Analyst IV'\n",
      " 'Geologist I' 'Financial Analyst' 'Accounting Assistant II'\n",
      " 'Senior Sales Associate' 'Database Administrator II' 'Engineer I'\n",
      " 'Budget/Accounting Analyst I' 'Developer IV' 'Database Administrator I'\n",
      " 'Environmental Specialist' 'Computer Systems Analyst I'\n",
      " 'Account Representative IV' 'Statistician IV' 'Human Resources Manager'\n",
      " 'GIS Technical Architect' 'Programmer IV' 'Accounting Assistant IV'\n",
      " 'Software Engineer IV' 'Programmer II' 'Engineer III'\n",
      " 'Software Consultant' 'Biostatistician IV' 'Help Desk Technician'\n",
      " 'Automation Specialist I' 'Developer III' 'Human Resources Assistant I'\n",
      " 'Geologist IV' 'Media Manager II' 'Statistician III' 'Engineer II'\n",
      " 'Health Coach II' 'Developer II' 'Systems Administrator I'\n",
      " 'Web Developer I' 'Software Engineer II' 'Accounting Assistant I'\n",
      " 'Research Assistant II' 'Programmer Analyst IV' 'Health Coach I'\n",
      " 'Accountant II' 'Automation Specialist III' 'Administrative Assistant I'\n",
      " 'Health Coach IV' 'Media Manager III' 'Account Representative III'\n",
      " 'Web Designer IV' 'Budget/Accounting Analyst II' 'Web Developer IV'\n",
      " 'Programmer I' 'Biostatistician III' 'Software Test Engineer IV'\n",
      " 'Research Assistant IV' 'Account Representative I' 'Accountant IV'\n",
      " 'Biostatistician I' 'Human Resources Assistant IV'\n",
      " 'Administrative Assistant IV' 'Office Assistant I'\n",
      " 'Human Resources Assistant II' 'Mechanical Systems Engineer'\n",
      " 'Engineer IV' 'Health Coach III' 'Office Assistant IV'\n",
      " 'Software Engineer I' 'Human Resources Assistant III'\n",
      " 'Staff Accountant I' 'Computer Systems Analyst III' 'Geologist II'\n",
      " 'Web Designer II' 'Staff Accountant IV' 'Account Representative II'\n",
      " 'Programmer Analyst I' 'Systems Administrator IV'\n",
      " 'Research Assistant III']\n",
      "---------------------------------------------------------------------------\n",
      "Distinct values of job_industry_category: ['Health' 'Financial Services' 'Property' 'IT' nan 'Retail' 'Argiculture'\n",
      " 'Manufacturing' 'Telecommunications' 'Entertainment']\n",
      "---------------------------------------------------------------------------\n",
      "Distinct values of wealth_segment: ['Mass Customer' 'Affluent Customer' 'High Net Worth']\n",
      "---------------------------------------------------------------------------\n",
      "Distinct values of owns_car: ['Yes' 'No']\n",
      "---------------------------------------------------------------------------\n",
      "Distinct values of tenure: [11. 16. 15.  7.  8. 13. 20.  9.  6.  1. 18. 21. 12. 19. 14.  4. 22.  5.\n",
      " 17.  2.  3. 10. nan]\n",
      "---------------------------------------------------------------------------\n",
      "Distinct values of age: [69. 42. 61. 46. 56. 47. 50. 34. 28. 68. 40. 22. 55. 60. 45. 44. 49. 54.\n",
      " 65. 59. 37. 67. 41. 51. 30. 29. 63. 66. 26. 23. 53. 43. 57. 21. 62. 38.\n",
      " 33. 36. 48. 24. 32. 25. 58. 35. nan 39. 52. 31. 64. 27. 79. 91. 87. 82.]\n",
      "---------------------------------------------------------------------------\n",
      "Distinct values of AgeGroup: ['older' 'forties' 'thirties' 'twenties' nan]\n",
      "---------------------------------------------------------------------------\n"
     ]
    }
   ],
   "source": [
    "for i in cd_df.columns:\n",
    "    print(f\"Distinct values of {i}: {cd_df[i].unique()}\")\n",
    "    print('-'*75)"
   ]
  },
  {
   "cell_type": "markdown",
   "id": "301f1128",
   "metadata": {
    "papermill": {
     "duration": 0.01667,
     "end_time": "2023-06-04T02:53:29.269605",
     "exception": false,
     "start_time": "2023-06-04T02:53:29.252935",
     "status": "completed"
    },
    "tags": []
   },
   "source": [
    "here I will drop the 'job_title' column and keep the two columns of 'job_industry' and 'wealth_segment'"
   ]
  },
  {
   "cell_type": "code",
   "execution_count": 22,
   "id": "0f0ad37b",
   "metadata": {
    "execution": {
     "iopub.execute_input": "2023-06-04T02:53:29.307066Z",
     "iopub.status.busy": "2023-06-04T02:53:29.305667Z",
     "iopub.status.idle": "2023-06-04T02:53:29.313846Z",
     "shell.execute_reply": "2023-06-04T02:53:29.312620Z"
    },
    "papermill": {
     "duration": 0.02995,
     "end_time": "2023-06-04T02:53:29.316572",
     "exception": false,
     "start_time": "2023-06-04T02:53:29.286622",
     "status": "completed"
    },
    "tags": []
   },
   "outputs": [],
   "source": [
    "cd_df = cd_df.drop(labels=['job_title'], axis=1)"
   ]
  },
  {
   "cell_type": "code",
   "execution_count": 23,
   "id": "ee417175",
   "metadata": {
    "execution": {
     "iopub.execute_input": "2023-06-04T02:53:29.354277Z",
     "iopub.status.busy": "2023-06-04T02:53:29.353713Z",
     "iopub.status.idle": "2023-06-04T02:53:29.379835Z",
     "shell.execute_reply": "2023-06-04T02:53:29.378695Z"
    },
    "papermill": {
     "duration": 0.04891,
     "end_time": "2023-06-04T02:53:29.382942",
     "exception": false,
     "start_time": "2023-06-04T02:53:29.334032",
     "status": "completed"
    },
    "tags": []
   },
   "outputs": [
    {
     "data": {
      "text/html": [
       "<div>\n",
       "<style scoped>\n",
       "    .dataframe tbody tr th:only-of-type {\n",
       "        vertical-align: middle;\n",
       "    }\n",
       "\n",
       "    .dataframe tbody tr th {\n",
       "        vertical-align: top;\n",
       "    }\n",
       "\n",
       "    .dataframe thead th {\n",
       "        text-align: right;\n",
       "    }\n",
       "</style>\n",
       "<table border=\"1\" class=\"dataframe\">\n",
       "  <thead>\n",
       "    <tr style=\"text-align: right;\">\n",
       "      <th></th>\n",
       "      <th>customer_id</th>\n",
       "      <th>gender</th>\n",
       "      <th>past_3_years_bike_related_purchases</th>\n",
       "      <th>job_industry_category</th>\n",
       "      <th>wealth_segment</th>\n",
       "      <th>owns_car</th>\n",
       "      <th>tenure</th>\n",
       "      <th>age</th>\n",
       "      <th>AgeGroup</th>\n",
       "    </tr>\n",
       "  </thead>\n",
       "  <tbody>\n",
       "    <tr>\n",
       "      <th>0</th>\n",
       "      <td>1</td>\n",
       "      <td>Female</td>\n",
       "      <td>93</td>\n",
       "      <td>Health</td>\n",
       "      <td>Mass Customer</td>\n",
       "      <td>Yes</td>\n",
       "      <td>11.0</td>\n",
       "      <td>69.0</td>\n",
       "      <td>older</td>\n",
       "    </tr>\n",
       "    <tr>\n",
       "      <th>1</th>\n",
       "      <td>2</td>\n",
       "      <td>Male</td>\n",
       "      <td>81</td>\n",
       "      <td>Financial Services</td>\n",
       "      <td>Mass Customer</td>\n",
       "      <td>Yes</td>\n",
       "      <td>16.0</td>\n",
       "      <td>42.0</td>\n",
       "      <td>forties</td>\n",
       "    </tr>\n",
       "    <tr>\n",
       "      <th>2</th>\n",
       "      <td>3</td>\n",
       "      <td>Male</td>\n",
       "      <td>61</td>\n",
       "      <td>Property</td>\n",
       "      <td>Mass Customer</td>\n",
       "      <td>Yes</td>\n",
       "      <td>15.0</td>\n",
       "      <td>69.0</td>\n",
       "      <td>older</td>\n",
       "    </tr>\n",
       "    <tr>\n",
       "      <th>3</th>\n",
       "      <td>4</td>\n",
       "      <td>Male</td>\n",
       "      <td>33</td>\n",
       "      <td>IT</td>\n",
       "      <td>Mass Customer</td>\n",
       "      <td>No</td>\n",
       "      <td>7.0</td>\n",
       "      <td>61.0</td>\n",
       "      <td>older</td>\n",
       "    </tr>\n",
       "    <tr>\n",
       "      <th>4</th>\n",
       "      <td>5</td>\n",
       "      <td>Female</td>\n",
       "      <td>56</td>\n",
       "      <td>NaN</td>\n",
       "      <td>Affluent Customer</td>\n",
       "      <td>Yes</td>\n",
       "      <td>8.0</td>\n",
       "      <td>46.0</td>\n",
       "      <td>forties</td>\n",
       "    </tr>\n",
       "    <tr>\n",
       "      <th>...</th>\n",
       "      <td>...</td>\n",
       "      <td>...</td>\n",
       "      <td>...</td>\n",
       "      <td>...</td>\n",
       "      <td>...</td>\n",
       "      <td>...</td>\n",
       "      <td>...</td>\n",
       "      <td>...</td>\n",
       "      <td>...</td>\n",
       "    </tr>\n",
       "    <tr>\n",
       "      <th>3992</th>\n",
       "      <td>3996</td>\n",
       "      <td>Female</td>\n",
       "      <td>8</td>\n",
       "      <td>Health</td>\n",
       "      <td>Mass Customer</td>\n",
       "      <td>No</td>\n",
       "      <td>19.0</td>\n",
       "      <td>47.0</td>\n",
       "      <td>forties</td>\n",
       "    </tr>\n",
       "    <tr>\n",
       "      <th>3993</th>\n",
       "      <td>3997</td>\n",
       "      <td>Female</td>\n",
       "      <td>87</td>\n",
       "      <td>Manufacturing</td>\n",
       "      <td>High Net Worth</td>\n",
       "      <td>Yes</td>\n",
       "      <td>1.0</td>\n",
       "      <td>21.0</td>\n",
       "      <td>twenties</td>\n",
       "    </tr>\n",
       "    <tr>\n",
       "      <th>3994</th>\n",
       "      <td>3998</td>\n",
       "      <td>Unkown</td>\n",
       "      <td>60</td>\n",
       "      <td>IT</td>\n",
       "      <td>High Net Worth</td>\n",
       "      <td>No</td>\n",
       "      <td>NaN</td>\n",
       "      <td>NaN</td>\n",
       "      <td>NaN</td>\n",
       "    </tr>\n",
       "    <tr>\n",
       "      <th>3995</th>\n",
       "      <td>3999</td>\n",
       "      <td>Male</td>\n",
       "      <td>11</td>\n",
       "      <td>Manufacturing</td>\n",
       "      <td>Affluent Customer</td>\n",
       "      <td>Yes</td>\n",
       "      <td>10.0</td>\n",
       "      <td>49.0</td>\n",
       "      <td>forties</td>\n",
       "    </tr>\n",
       "    <tr>\n",
       "      <th>3996</th>\n",
       "      <td>4000</td>\n",
       "      <td>Male</td>\n",
       "      <td>76</td>\n",
       "      <td>NaN</td>\n",
       "      <td>Affluent Customer</td>\n",
       "      <td>No</td>\n",
       "      <td>11.0</td>\n",
       "      <td>31.0</td>\n",
       "      <td>thirties</td>\n",
       "    </tr>\n",
       "  </tbody>\n",
       "</table>\n",
       "<p>3997 rows × 9 columns</p>\n",
       "</div>"
      ],
      "text/plain": [
       "      customer_id  gender  past_3_years_bike_related_purchases  \\\n",
       "0               1  Female                                   93   \n",
       "1               2    Male                                   81   \n",
       "2               3    Male                                   61   \n",
       "3               4    Male                                   33   \n",
       "4               5  Female                                   56   \n",
       "...           ...     ...                                  ...   \n",
       "3992         3996  Female                                    8   \n",
       "3993         3997  Female                                   87   \n",
       "3994         3998  Unkown                                   60   \n",
       "3995         3999    Male                                   11   \n",
       "3996         4000    Male                                   76   \n",
       "\n",
       "     job_industry_category     wealth_segment owns_car  tenure   age  AgeGroup  \n",
       "0                   Health      Mass Customer      Yes    11.0  69.0     older  \n",
       "1       Financial Services      Mass Customer      Yes    16.0  42.0   forties  \n",
       "2                 Property      Mass Customer      Yes    15.0  69.0     older  \n",
       "3                       IT      Mass Customer       No     7.0  61.0     older  \n",
       "4                      NaN  Affluent Customer      Yes     8.0  46.0   forties  \n",
       "...                    ...                ...      ...     ...   ...       ...  \n",
       "3992                Health      Mass Customer       No    19.0  47.0   forties  \n",
       "3993         Manufacturing     High Net Worth      Yes     1.0  21.0  twenties  \n",
       "3994                    IT     High Net Worth       No     NaN   NaN       NaN  \n",
       "3995         Manufacturing  Affluent Customer      Yes    10.0  49.0   forties  \n",
       "3996                   NaN  Affluent Customer       No    11.0  31.0  thirties  \n",
       "\n",
       "[3997 rows x 9 columns]"
      ]
     },
     "execution_count": 23,
     "metadata": {},
     "output_type": "execute_result"
    }
   ],
   "source": [
    "cd_df"
   ]
  },
  {
   "cell_type": "markdown",
   "id": "fd8cb8aa",
   "metadata": {
    "papermill": {
     "duration": 0.017187,
     "end_time": "2023-06-04T02:53:29.417895",
     "exception": false,
     "start_time": "2023-06-04T02:53:29.400708",
     "status": "completed"
    },
    "tags": []
   },
   "source": [
    "now I will divide the 'past_3_years_bike_related_purchases' column into intervalls:"
   ]
  },
  {
   "cell_type": "code",
   "execution_count": 24,
   "id": "bdea3c6d",
   "metadata": {
    "execution": {
     "iopub.execute_input": "2023-06-04T02:53:29.456438Z",
     "iopub.status.busy": "2023-06-04T02:53:29.455066Z",
     "iopub.status.idle": "2023-06-04T02:53:29.473537Z",
     "shell.execute_reply": "2023-06-04T02:53:29.472122Z"
    },
    "papermill": {
     "duration": 0.041017,
     "end_time": "2023-06-04T02:53:29.476749",
     "exception": false,
     "start_time": "2023-06-04T02:53:29.435732",
     "status": "completed"
    },
    "tags": []
   },
   "outputs": [
    {
     "name": "stderr",
     "output_type": "stream",
     "text": [
      "/tmp/ipykernel_20/2067553616.py:2: SettingWithCopyWarning: \n",
      "A value is trying to be set on a copy of a slice from a DataFrame\n",
      "\n",
      "See the caveats in the documentation: https://pandas.pydata.org/pandas-docs/stable/user_guide/indexing.html#returning-a-view-versus-a-copy\n",
      "  cd_df['p3y_bike_purchases'][ cd_df['past_3_years_bike_related_purchases'] < 100 ] = '80-100'\n",
      "/tmp/ipykernel_20/2067553616.py:3: SettingWithCopyWarning: \n",
      "A value is trying to be set on a copy of a slice from a DataFrame\n",
      "\n",
      "See the caveats in the documentation: https://pandas.pydata.org/pandas-docs/stable/user_guide/indexing.html#returning-a-view-versus-a-copy\n",
      "  cd_df['p3y_bike_purchases'][ cd_df['past_3_years_bike_related_purchases'] < 80 ] = '60-80'\n",
      "/tmp/ipykernel_20/2067553616.py:4: SettingWithCopyWarning: \n",
      "A value is trying to be set on a copy of a slice from a DataFrame\n",
      "\n",
      "See the caveats in the documentation: https://pandas.pydata.org/pandas-docs/stable/user_guide/indexing.html#returning-a-view-versus-a-copy\n",
      "  cd_df['p3y_bike_purchases'][ cd_df['past_3_years_bike_related_purchases'] < 60 ] = '40-60'\n",
      "/tmp/ipykernel_20/2067553616.py:5: SettingWithCopyWarning: \n",
      "A value is trying to be set on a copy of a slice from a DataFrame\n",
      "\n",
      "See the caveats in the documentation: https://pandas.pydata.org/pandas-docs/stable/user_guide/indexing.html#returning-a-view-versus-a-copy\n",
      "  cd_df['p3y_bike_purchases'][ cd_df['past_3_years_bike_related_purchases'] < 40 ] = '20-40'\n",
      "/tmp/ipykernel_20/2067553616.py:6: SettingWithCopyWarning: \n",
      "A value is trying to be set on a copy of a slice from a DataFrame\n",
      "\n",
      "See the caveats in the documentation: https://pandas.pydata.org/pandas-docs/stable/user_guide/indexing.html#returning-a-view-versus-a-copy\n",
      "  cd_df['p3y_bike_purchases'][ cd_df['past_3_years_bike_related_purchases'] < 20 ] = '0-20'\n"
     ]
    }
   ],
   "source": [
    "cd_df['p3y_bike_purchases'] = \"\" # add an empty column to the dataframe\n",
    "cd_df['p3y_bike_purchases'][ cd_df['past_3_years_bike_related_purchases'] < 100 ] = '80-100' \n",
    "cd_df['p3y_bike_purchases'][ cd_df['past_3_years_bike_related_purchases'] < 80 ] = '60-80'\n",
    "cd_df['p3y_bike_purchases'][ cd_df['past_3_years_bike_related_purchases'] < 60 ] = '40-60'\n",
    "cd_df['p3y_bike_purchases'][ cd_df['past_3_years_bike_related_purchases'] < 40 ] = '20-40'\n",
    "cd_df['p3y_bike_purchases'][ cd_df['past_3_years_bike_related_purchases'] < 20 ] = '0-20'"
   ]
  },
  {
   "cell_type": "code",
   "execution_count": 25,
   "id": "ad407d8c",
   "metadata": {
    "execution": {
     "iopub.execute_input": "2023-06-04T02:53:29.515163Z",
     "iopub.status.busy": "2023-06-04T02:53:29.514201Z",
     "iopub.status.idle": "2023-06-04T02:53:29.533425Z",
     "shell.execute_reply": "2023-06-04T02:53:29.532413Z"
    },
    "papermill": {
     "duration": 0.041186,
     "end_time": "2023-06-04T02:53:29.535796",
     "exception": false,
     "start_time": "2023-06-04T02:53:29.494610",
     "status": "completed"
    },
    "tags": []
   },
   "outputs": [
    {
     "data": {
      "text/html": [
       "<div>\n",
       "<style scoped>\n",
       "    .dataframe tbody tr th:only-of-type {\n",
       "        vertical-align: middle;\n",
       "    }\n",
       "\n",
       "    .dataframe tbody tr th {\n",
       "        vertical-align: top;\n",
       "    }\n",
       "\n",
       "    .dataframe thead th {\n",
       "        text-align: right;\n",
       "    }\n",
       "</style>\n",
       "<table border=\"1\" class=\"dataframe\">\n",
       "  <thead>\n",
       "    <tr style=\"text-align: right;\">\n",
       "      <th></th>\n",
       "      <th>customer_id</th>\n",
       "      <th>gender</th>\n",
       "      <th>past_3_years_bike_related_purchases</th>\n",
       "      <th>job_industry_category</th>\n",
       "      <th>wealth_segment</th>\n",
       "      <th>owns_car</th>\n",
       "      <th>tenure</th>\n",
       "      <th>age</th>\n",
       "      <th>AgeGroup</th>\n",
       "      <th>p3y_bike_purchases</th>\n",
       "    </tr>\n",
       "  </thead>\n",
       "  <tbody>\n",
       "    <tr>\n",
       "      <th>0</th>\n",
       "      <td>1</td>\n",
       "      <td>Female</td>\n",
       "      <td>93</td>\n",
       "      <td>Health</td>\n",
       "      <td>Mass Customer</td>\n",
       "      <td>Yes</td>\n",
       "      <td>11.0</td>\n",
       "      <td>69.0</td>\n",
       "      <td>older</td>\n",
       "      <td>80-100</td>\n",
       "    </tr>\n",
       "    <tr>\n",
       "      <th>1</th>\n",
       "      <td>2</td>\n",
       "      <td>Male</td>\n",
       "      <td>81</td>\n",
       "      <td>Financial Services</td>\n",
       "      <td>Mass Customer</td>\n",
       "      <td>Yes</td>\n",
       "      <td>16.0</td>\n",
       "      <td>42.0</td>\n",
       "      <td>forties</td>\n",
       "      <td>80-100</td>\n",
       "    </tr>\n",
       "    <tr>\n",
       "      <th>2</th>\n",
       "      <td>3</td>\n",
       "      <td>Male</td>\n",
       "      <td>61</td>\n",
       "      <td>Property</td>\n",
       "      <td>Mass Customer</td>\n",
       "      <td>Yes</td>\n",
       "      <td>15.0</td>\n",
       "      <td>69.0</td>\n",
       "      <td>older</td>\n",
       "      <td>60-80</td>\n",
       "    </tr>\n",
       "    <tr>\n",
       "      <th>3</th>\n",
       "      <td>4</td>\n",
       "      <td>Male</td>\n",
       "      <td>33</td>\n",
       "      <td>IT</td>\n",
       "      <td>Mass Customer</td>\n",
       "      <td>No</td>\n",
       "      <td>7.0</td>\n",
       "      <td>61.0</td>\n",
       "      <td>older</td>\n",
       "      <td>20-40</td>\n",
       "    </tr>\n",
       "    <tr>\n",
       "      <th>4</th>\n",
       "      <td>5</td>\n",
       "      <td>Female</td>\n",
       "      <td>56</td>\n",
       "      <td>NaN</td>\n",
       "      <td>Affluent Customer</td>\n",
       "      <td>Yes</td>\n",
       "      <td>8.0</td>\n",
       "      <td>46.0</td>\n",
       "      <td>forties</td>\n",
       "      <td>40-60</td>\n",
       "    </tr>\n",
       "  </tbody>\n",
       "</table>\n",
       "</div>"
      ],
      "text/plain": [
       "   customer_id  gender  past_3_years_bike_related_purchases  \\\n",
       "0            1  Female                                   93   \n",
       "1            2    Male                                   81   \n",
       "2            3    Male                                   61   \n",
       "3            4    Male                                   33   \n",
       "4            5  Female                                   56   \n",
       "\n",
       "  job_industry_category     wealth_segment owns_car  tenure   age AgeGroup  \\\n",
       "0                Health      Mass Customer      Yes    11.0  69.0    older   \n",
       "1    Financial Services      Mass Customer      Yes    16.0  42.0  forties   \n",
       "2              Property      Mass Customer      Yes    15.0  69.0    older   \n",
       "3                    IT      Mass Customer       No     7.0  61.0    older   \n",
       "4                   NaN  Affluent Customer      Yes     8.0  46.0  forties   \n",
       "\n",
       "  p3y_bike_purchases  \n",
       "0             80-100  \n",
       "1             80-100  \n",
       "2              60-80  \n",
       "3              20-40  \n",
       "4              40-60  "
      ]
     },
     "execution_count": 25,
     "metadata": {},
     "output_type": "execute_result"
    }
   ],
   "source": [
    "cd_df.head()"
   ]
  },
  {
   "cell_type": "code",
   "execution_count": 26,
   "id": "7e11886d",
   "metadata": {
    "execution": {
     "iopub.execute_input": "2023-06-04T02:53:29.575099Z",
     "iopub.status.busy": "2023-06-04T02:53:29.574183Z",
     "iopub.status.idle": "2023-06-04T02:53:29.580339Z",
     "shell.execute_reply": "2023-06-04T02:53:29.578892Z"
    },
    "papermill": {
     "duration": 0.029014,
     "end_time": "2023-06-04T02:53:29.583220",
     "exception": false,
     "start_time": "2023-06-04T02:53:29.554206",
     "status": "completed"
    },
    "tags": []
   },
   "outputs": [],
   "source": [
    "#cd_df = cd_df.drop(labels=['past_3_years_bike_related_purchases'], axis=1)"
   ]
  },
  {
   "cell_type": "code",
   "execution_count": 27,
   "id": "84e2401a",
   "metadata": {
    "execution": {
     "iopub.execute_input": "2023-06-04T02:53:29.622555Z",
     "iopub.status.busy": "2023-06-04T02:53:29.621907Z",
     "iopub.status.idle": "2023-06-04T02:53:29.649442Z",
     "shell.execute_reply": "2023-06-04T02:53:29.647911Z"
    },
    "papermill": {
     "duration": 0.050759,
     "end_time": "2023-06-04T02:53:29.652207",
     "exception": false,
     "start_time": "2023-06-04T02:53:29.601448",
     "status": "completed"
    },
    "tags": []
   },
   "outputs": [
    {
     "data": {
      "text/html": [
       "<div>\n",
       "<style scoped>\n",
       "    .dataframe tbody tr th:only-of-type {\n",
       "        vertical-align: middle;\n",
       "    }\n",
       "\n",
       "    .dataframe tbody tr th {\n",
       "        vertical-align: top;\n",
       "    }\n",
       "\n",
       "    .dataframe thead th {\n",
       "        text-align: right;\n",
       "    }\n",
       "</style>\n",
       "<table border=\"1\" class=\"dataframe\">\n",
       "  <thead>\n",
       "    <tr style=\"text-align: right;\">\n",
       "      <th></th>\n",
       "      <th>customer_id</th>\n",
       "      <th>gender</th>\n",
       "      <th>past_3_years_bike_related_purchases</th>\n",
       "      <th>job_industry_category</th>\n",
       "      <th>wealth_segment</th>\n",
       "      <th>owns_car</th>\n",
       "      <th>tenure</th>\n",
       "      <th>age</th>\n",
       "      <th>AgeGroup</th>\n",
       "      <th>p3y_bike_purchases</th>\n",
       "    </tr>\n",
       "  </thead>\n",
       "  <tbody>\n",
       "    <tr>\n",
       "      <th>0</th>\n",
       "      <td>1</td>\n",
       "      <td>Female</td>\n",
       "      <td>93</td>\n",
       "      <td>Health</td>\n",
       "      <td>Mass Customer</td>\n",
       "      <td>Yes</td>\n",
       "      <td>11.0</td>\n",
       "      <td>69.0</td>\n",
       "      <td>older</td>\n",
       "      <td>80-100</td>\n",
       "    </tr>\n",
       "    <tr>\n",
       "      <th>1</th>\n",
       "      <td>2</td>\n",
       "      <td>Male</td>\n",
       "      <td>81</td>\n",
       "      <td>Financial Services</td>\n",
       "      <td>Mass Customer</td>\n",
       "      <td>Yes</td>\n",
       "      <td>16.0</td>\n",
       "      <td>42.0</td>\n",
       "      <td>forties</td>\n",
       "      <td>80-100</td>\n",
       "    </tr>\n",
       "    <tr>\n",
       "      <th>2</th>\n",
       "      <td>3</td>\n",
       "      <td>Male</td>\n",
       "      <td>61</td>\n",
       "      <td>Property</td>\n",
       "      <td>Mass Customer</td>\n",
       "      <td>Yes</td>\n",
       "      <td>15.0</td>\n",
       "      <td>69.0</td>\n",
       "      <td>older</td>\n",
       "      <td>60-80</td>\n",
       "    </tr>\n",
       "    <tr>\n",
       "      <th>3</th>\n",
       "      <td>4</td>\n",
       "      <td>Male</td>\n",
       "      <td>33</td>\n",
       "      <td>IT</td>\n",
       "      <td>Mass Customer</td>\n",
       "      <td>No</td>\n",
       "      <td>7.0</td>\n",
       "      <td>61.0</td>\n",
       "      <td>older</td>\n",
       "      <td>20-40</td>\n",
       "    </tr>\n",
       "    <tr>\n",
       "      <th>4</th>\n",
       "      <td>5</td>\n",
       "      <td>Female</td>\n",
       "      <td>56</td>\n",
       "      <td>NaN</td>\n",
       "      <td>Affluent Customer</td>\n",
       "      <td>Yes</td>\n",
       "      <td>8.0</td>\n",
       "      <td>46.0</td>\n",
       "      <td>forties</td>\n",
       "      <td>40-60</td>\n",
       "    </tr>\n",
       "    <tr>\n",
       "      <th>...</th>\n",
       "      <td>...</td>\n",
       "      <td>...</td>\n",
       "      <td>...</td>\n",
       "      <td>...</td>\n",
       "      <td>...</td>\n",
       "      <td>...</td>\n",
       "      <td>...</td>\n",
       "      <td>...</td>\n",
       "      <td>...</td>\n",
       "      <td>...</td>\n",
       "    </tr>\n",
       "    <tr>\n",
       "      <th>3992</th>\n",
       "      <td>3996</td>\n",
       "      <td>Female</td>\n",
       "      <td>8</td>\n",
       "      <td>Health</td>\n",
       "      <td>Mass Customer</td>\n",
       "      <td>No</td>\n",
       "      <td>19.0</td>\n",
       "      <td>47.0</td>\n",
       "      <td>forties</td>\n",
       "      <td>0-20</td>\n",
       "    </tr>\n",
       "    <tr>\n",
       "      <th>3993</th>\n",
       "      <td>3997</td>\n",
       "      <td>Female</td>\n",
       "      <td>87</td>\n",
       "      <td>Manufacturing</td>\n",
       "      <td>High Net Worth</td>\n",
       "      <td>Yes</td>\n",
       "      <td>1.0</td>\n",
       "      <td>21.0</td>\n",
       "      <td>twenties</td>\n",
       "      <td>80-100</td>\n",
       "    </tr>\n",
       "    <tr>\n",
       "      <th>3994</th>\n",
       "      <td>3998</td>\n",
       "      <td>Unkown</td>\n",
       "      <td>60</td>\n",
       "      <td>IT</td>\n",
       "      <td>High Net Worth</td>\n",
       "      <td>No</td>\n",
       "      <td>NaN</td>\n",
       "      <td>NaN</td>\n",
       "      <td>NaN</td>\n",
       "      <td>60-80</td>\n",
       "    </tr>\n",
       "    <tr>\n",
       "      <th>3995</th>\n",
       "      <td>3999</td>\n",
       "      <td>Male</td>\n",
       "      <td>11</td>\n",
       "      <td>Manufacturing</td>\n",
       "      <td>Affluent Customer</td>\n",
       "      <td>Yes</td>\n",
       "      <td>10.0</td>\n",
       "      <td>49.0</td>\n",
       "      <td>forties</td>\n",
       "      <td>0-20</td>\n",
       "    </tr>\n",
       "    <tr>\n",
       "      <th>3996</th>\n",
       "      <td>4000</td>\n",
       "      <td>Male</td>\n",
       "      <td>76</td>\n",
       "      <td>NaN</td>\n",
       "      <td>Affluent Customer</td>\n",
       "      <td>No</td>\n",
       "      <td>11.0</td>\n",
       "      <td>31.0</td>\n",
       "      <td>thirties</td>\n",
       "      <td>60-80</td>\n",
       "    </tr>\n",
       "  </tbody>\n",
       "</table>\n",
       "<p>3997 rows × 10 columns</p>\n",
       "</div>"
      ],
      "text/plain": [
       "      customer_id  gender  past_3_years_bike_related_purchases  \\\n",
       "0               1  Female                                   93   \n",
       "1               2    Male                                   81   \n",
       "2               3    Male                                   61   \n",
       "3               4    Male                                   33   \n",
       "4               5  Female                                   56   \n",
       "...           ...     ...                                  ...   \n",
       "3992         3996  Female                                    8   \n",
       "3993         3997  Female                                   87   \n",
       "3994         3998  Unkown                                   60   \n",
       "3995         3999    Male                                   11   \n",
       "3996         4000    Male                                   76   \n",
       "\n",
       "     job_industry_category     wealth_segment owns_car  tenure   age  \\\n",
       "0                   Health      Mass Customer      Yes    11.0  69.0   \n",
       "1       Financial Services      Mass Customer      Yes    16.0  42.0   \n",
       "2                 Property      Mass Customer      Yes    15.0  69.0   \n",
       "3                       IT      Mass Customer       No     7.0  61.0   \n",
       "4                      NaN  Affluent Customer      Yes     8.0  46.0   \n",
       "...                    ...                ...      ...     ...   ...   \n",
       "3992                Health      Mass Customer       No    19.0  47.0   \n",
       "3993         Manufacturing     High Net Worth      Yes     1.0  21.0   \n",
       "3994                    IT     High Net Worth       No     NaN   NaN   \n",
       "3995         Manufacturing  Affluent Customer      Yes    10.0  49.0   \n",
       "3996                   NaN  Affluent Customer       No    11.0  31.0   \n",
       "\n",
       "      AgeGroup p3y_bike_purchases  \n",
       "0        older             80-100  \n",
       "1      forties             80-100  \n",
       "2        older              60-80  \n",
       "3        older              20-40  \n",
       "4      forties              40-60  \n",
       "...        ...                ...  \n",
       "3992   forties               0-20  \n",
       "3993  twenties             80-100  \n",
       "3994       NaN              60-80  \n",
       "3995   forties               0-20  \n",
       "3996  thirties              60-80  \n",
       "\n",
       "[3997 rows x 10 columns]"
      ]
     },
     "execution_count": 27,
     "metadata": {},
     "output_type": "execute_result"
    }
   ],
   "source": [
    "cd_df"
   ]
  },
  {
   "cell_type": "code",
   "execution_count": 28,
   "id": "e4efa564",
   "metadata": {
    "execution": {
     "iopub.execute_input": "2023-06-04T02:53:29.692507Z",
     "iopub.status.busy": "2023-06-04T02:53:29.691394Z",
     "iopub.status.idle": "2023-06-04T02:53:29.701444Z",
     "shell.execute_reply": "2023-06-04T02:53:29.699937Z"
    },
    "papermill": {
     "duration": 0.03355,
     "end_time": "2023-06-04T02:53:29.704407",
     "exception": false,
     "start_time": "2023-06-04T02:53:29.670857",
     "status": "completed"
    },
    "tags": []
   },
   "outputs": [],
   "source": [
    "cd_df['owns_car'] = cd_df['owns_car'].map({'Yes' : 1, 'No' : 0})"
   ]
  },
  {
   "cell_type": "code",
   "execution_count": 29,
   "id": "13b1f4c9",
   "metadata": {
    "execution": {
     "iopub.execute_input": "2023-06-04T02:53:29.744353Z",
     "iopub.status.busy": "2023-06-04T02:53:29.743624Z",
     "iopub.status.idle": "2023-06-04T02:53:30.111537Z",
     "shell.execute_reply": "2023-06-04T02:53:30.109596Z"
    },
    "papermill": {
     "duration": 0.392409,
     "end_time": "2023-06-04T02:53:30.115265",
     "exception": false,
     "start_time": "2023-06-04T02:53:29.722856",
     "status": "completed"
    },
    "tags": []
   },
   "outputs": [
    {
     "name": "stderr",
     "output_type": "stream",
     "text": [
      "/tmp/ipykernel_20/3478514271.py:1: UserWarning: \n",
      "\n",
      "`distplot` is a deprecated function and will be removed in seaborn v0.14.0.\n",
      "\n",
      "Please adapt your code to use either `displot` (a figure-level function with\n",
      "similar flexibility) or `histplot` (an axes-level function for histograms).\n",
      "\n",
      "For a guide to updating your code to use the new functions, please see\n",
      "https://gist.github.com/mwaskom/de44147ed2974457ad6372750bbe5751\n",
      "\n",
      "  sns.distplot(x=cd_df['past_3_years_bike_related_purchases'])\n"
     ]
    },
    {
     "data": {
      "text/plain": [
       "<AxesSubplot: ylabel='Density'>"
      ]
     },
     "execution_count": 29,
     "metadata": {},
     "output_type": "execute_result"
    },
    {
     "data": {
      "image/png": "[encoded data removed]",
      "text/plain": [
       "<Figure size 640x480 with 1 Axes>"
      ]
     },
     "metadata": {},
     "output_type": "display_data"
    }
   ],
   "source": [
    "sns.distplot(x=cd_df['past_3_years_bike_related_purchases'])"
   ]
  },
  {
   "cell_type": "code",
   "execution_count": 30,
   "id": "0f6e507d",
   "metadata": {
    "execution": {
     "iopub.execute_input": "2023-06-04T02:53:30.157889Z",
     "iopub.status.busy": "2023-06-04T02:53:30.157329Z",
     "iopub.status.idle": "2023-06-04T02:53:30.518167Z",
     "shell.execute_reply": "2023-06-04T02:53:30.517108Z"
    },
    "papermill": {
     "duration": 0.385843,
     "end_time": "2023-06-04T02:53:30.520953",
     "exception": false,
     "start_time": "2023-06-04T02:53:30.135110",
     "status": "completed"
    },
    "tags": []
   },
   "outputs": [
    {
     "name": "stderr",
     "output_type": "stream",
     "text": [
      "/tmp/ipykernel_20/759195631.py:1: UserWarning: \n",
      "\n",
      "`distplot` is a deprecated function and will be removed in seaborn v0.14.0.\n",
      "\n",
      "Please adapt your code to use either `displot` (a figure-level function with\n",
      "similar flexibility) or `histplot` (an axes-level function for histograms).\n",
      "\n",
      "For a guide to updating your code to use the new functions, please see\n",
      "https://gist.github.com/mwaskom/de44147ed2974457ad6372750bbe5751\n",
      "\n",
      "  sns.distplot(x=cd_df['owns_car'])\n"
     ]
    },
    {
     "data": {
      "text/plain": [
       "<AxesSubplot: ylabel='Density'>"
      ]
     },
     "execution_count": 30,
     "metadata": {},
     "output_type": "execute_result"
    },
    {
     "data": {
      "image/png": "[encoded data removed]",
      "text/plain": [
       "<Figure size 640x480 with 1 Axes>"
      ]
     },
     "metadata": {},
     "output_type": "display_data"
    }
   ],
   "source": [
    "sns.distplot(x=cd_df['owns_car'])"
   ]
  },
  {
   "cell_type": "code",
   "execution_count": 31,
   "id": "68b27acc",
   "metadata": {
    "execution": {
     "iopub.execute_input": "2023-06-04T02:53:30.566553Z",
     "iopub.status.busy": "2023-06-04T02:53:30.565639Z",
     "iopub.status.idle": "2023-06-04T02:53:30.934191Z",
     "shell.execute_reply": "2023-06-04T02:53:30.932871Z"
    },
    "papermill": {
     "duration": 0.395074,
     "end_time": "2023-06-04T02:53:30.938081",
     "exception": false,
     "start_time": "2023-06-04T02:53:30.543007",
     "status": "completed"
    },
    "tags": []
   },
   "outputs": [
    {
     "name": "stderr",
     "output_type": "stream",
     "text": [
      "/tmp/ipykernel_20/951577230.py:1: UserWarning: \n",
      "\n",
      "`distplot` is a deprecated function and will be removed in seaborn v0.14.0.\n",
      "\n",
      "Please adapt your code to use either `displot` (a figure-level function with\n",
      "similar flexibility) or `histplot` (an axes-level function for histograms).\n",
      "\n",
      "For a guide to updating your code to use the new functions, please see\n",
      "https://gist.github.com/mwaskom/de44147ed2974457ad6372750bbe5751\n",
      "\n",
      "  sns.distplot(x=cd_df['tenure'])\n"
     ]
    },
    {
     "data": {
      "text/plain": [
       "<AxesSubplot: ylabel='Density'>"
      ]
     },
     "execution_count": 31,
     "metadata": {},
     "output_type": "execute_result"
    },
    {
     "data": {
      "image/png": "[encoded data removed]",
      "text/plain": [
       "<Figure size 640x480 with 1 Axes>"
      ]
     },
     "metadata": {},
     "output_type": "display_data"
    }
   ],
   "source": [
    "sns.distplot(x=cd_df['tenure'])"
   ]
  },
  {
   "cell_type": "code",
   "execution_count": 32,
   "id": "95e158bf",
   "metadata": {
    "execution": {
     "iopub.execute_input": "2023-06-04T02:53:30.992155Z",
     "iopub.status.busy": "2023-06-04T02:53:30.991547Z",
     "iopub.status.idle": "2023-06-04T02:53:31.376496Z",
     "shell.execute_reply": "2023-06-04T02:53:31.375089Z"
    },
    "papermill": {
     "duration": 0.411833,
     "end_time": "2023-06-04T02:53:31.379386",
     "exception": false,
     "start_time": "2023-06-04T02:53:30.967553",
     "status": "completed"
    },
    "tags": []
   },
   "outputs": [
    {
     "name": "stderr",
     "output_type": "stream",
     "text": [
      "/tmp/ipykernel_20/1464202997.py:1: UserWarning: \n",
      "\n",
      "`distplot` is a deprecated function and will be removed in seaborn v0.14.0.\n",
      "\n",
      "Please adapt your code to use either `displot` (a figure-level function with\n",
      "similar flexibility) or `histplot` (an axes-level function for histograms).\n",
      "\n",
      "For a guide to updating your code to use the new functions, please see\n",
      "https://gist.github.com/mwaskom/de44147ed2974457ad6372750bbe5751\n",
      "\n",
      "  sns.distplot(x=cd_df['age'])\n"
     ]
    },
    {
     "data": {
      "text/plain": [
       "<AxesSubplot: ylabel='Density'>"
      ]
     },
     "execution_count": 32,
     "metadata": {},
     "output_type": "execute_result"
    },
    {
     "data": {
      "image/png": "[encoded data removed]",
      "text/plain": [
       "<Figure size 640x480 with 1 Axes>"
      ]
     },
     "metadata": {},
     "output_type": "display_data"
    }
   ],
   "source": [
    "sns.distplot(x=cd_df['age'])"
   ]
  },
  {
   "cell_type": "code",
   "execution_count": 33,
   "id": "89b3cff1",
   "metadata": {
    "execution": {
     "iopub.execute_input": "2023-06-04T02:53:31.429402Z",
     "iopub.status.busy": "2023-06-04T02:53:31.428028Z",
     "iopub.status.idle": "2023-06-04T02:53:31.696231Z",
     "shell.execute_reply": "2023-06-04T02:53:31.695027Z"
    },
    "papermill": {
     "duration": 0.296821,
     "end_time": "2023-06-04T02:53:31.698879",
     "exception": false,
     "start_time": "2023-06-04T02:53:31.402058",
     "status": "completed"
    },
    "tags": []
   },
   "outputs": [
    {
     "data": {
      "text/plain": [
       "<AxesSubplot: xlabel='wealth_segment', ylabel='owns_car'>"
      ]
     },
     "execution_count": 33,
     "metadata": {},
     "output_type": "execute_result"
    },
    {
     "data": {
      "image/png": "[encoded data removed]",
      "text/plain": [
       "<Figure size 640x480 with 1 Axes>"
      ]
     },
     "metadata": {},
     "output_type": "display_data"
    }
   ],
   "source": [
    "cd_df.plot(kind='scatter', x='wealth_segment', y='owns_car')"
   ]
  },
  {
   "cell_type": "code",
   "execution_count": 34,
   "id": "7aba4b3f",
   "metadata": {
    "execution": {
     "iopub.execute_input": "2023-06-04T02:53:31.744330Z",
     "iopub.status.busy": "2023-06-04T02:53:31.743214Z",
     "iopub.status.idle": "2023-06-04T02:53:31.979285Z",
     "shell.execute_reply": "2023-06-04T02:53:31.978122Z"
    },
    "papermill": {
     "duration": 0.261937,
     "end_time": "2023-06-04T02:53:31.982274",
     "exception": false,
     "start_time": "2023-06-04T02:53:31.720337",
     "status": "completed"
    },
    "tags": []
   },
   "outputs": [
    {
     "data": {
      "text/plain": [
       "<AxesSubplot: xlabel='owns_car', ylabel='count'>"
      ]
     },
     "execution_count": 34,
     "metadata": {},
     "output_type": "execute_result"
    },
    {
     "data": {
      "image/png": "[encoded data removed]",
      "text/plain": [
       "<Figure size 640x480 with 1 Axes>"
      ]
     },
     "metadata": {},
     "output_type": "display_data"
    }
   ],
   "source": [
    "sns.countplot(x=cd_df['owns_car'])"
   ]
  },
  {
   "cell_type": "code",
   "execution_count": 35,
   "id": "9dbbbbd5",
   "metadata": {
    "execution": {
     "iopub.execute_input": "2023-06-04T02:53:32.037032Z",
     "iopub.status.busy": "2023-06-04T02:53:32.035801Z",
     "iopub.status.idle": "2023-06-04T02:53:32.040671Z",
     "shell.execute_reply": "2023-06-04T02:53:32.039860Z"
    },
    "papermill": {
     "duration": 0.033116,
     "end_time": "2023-06-04T02:53:32.042876",
     "exception": false,
     "start_time": "2023-06-04T02:53:32.009760",
     "status": "completed"
    },
    "tags": []
   },
   "outputs": [],
   "source": [
    "#ca_df['state'].query(\"gender = Male\")\n",
    "#value_counts().plot(kind='bar', title='The number of clients from the three states')"
   ]
  }
 ],
 "metadata": {
  "kernelspec": {
   "display_name": "Python 3",
   "language": "python",
   "name": "python3"
  },
  "language_info": {
   "codemirror_mode": {
    "name": "ipython",
    "version": 3
   },
   "file_extension": ".py",
   "mimetype": "text/x-python",
   "name": "python",
   "nbconvert_exporter": "python",
   "pygments_lexer": "ipython3",
   "version": "3.10.10"
  },
  "papermill": {
   "default_parameters": {},
   "duration": 36.372133,
   "end_time": "2023-06-04T02:53:33.490771",
   "environment_variables": {},
   "exception": null,
   "input_path": "__notebook__.ipynb",
   "output_path": "__notebook__.ipynb",
   "parameters": {},
   "start_time": "2023-06-04T02:52:57.118638",
   "version": "2.4.0"
  }
 },
 "nbformat": 4,
 "nbformat_minor": 5
}
